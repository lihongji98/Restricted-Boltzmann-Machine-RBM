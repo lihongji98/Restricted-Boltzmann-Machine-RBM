{
 "cells": [
  {
   "cell_type": "code",
   "execution_count": 1,
   "metadata": {
    "ExecuteTime": {
     "end_time": "2022-11-08T17:44:22.693299Z",
     "start_time": "2022-11-08T17:44:22.686299Z"
    }
   },
   "outputs": [],
   "source": [
    "import numpy as np\n",
    "import itertools\n",
    "import time"
   ]
  },
  {
   "cell_type": "code",
   "execution_count": 2,
   "metadata": {
    "ExecuteTime": {
     "end_time": "2022-11-08T17:43:09.010674Z",
     "start_time": "2022-11-08T17:43:08.996603Z"
    }
   },
   "outputs": [],
   "source": [
    "class RBM:\n",
    "    def __init__(self, v_dim, h_dim, lr=5e-4, gibbs_num=1):\n",
    "        self.v_dim = v_dim\n",
    "        self.h_dim = h_dim\n",
    "        self.lr = lr\n",
    "        self.v_bias = np.random.normal(-0.1, 0.1, size = (1,self.v_dim))\n",
    "        self.h_bias = np.random.normal(-0.1, 0.1, size =(1,self.h_dim))\n",
    "        self.W = np.random.normal(size = (self.v_dim, self.h_dim))\n",
    "        self.gibbs_num = gibbs_num\n",
    "        self.v_w, self.v_v, self.v_h = 0, 0, 0\n",
    "        self.momentum = 0.9\n",
    "\n",
    "    \n",
    "    # when a input vector V is recieved, p(h=1|v) can be computed\n",
    "    # using the activition probability, the states of hidden layer could be sampled\n",
    "    def sample_h(self, v_input):\n",
    "        var = -(np.dot(v_input, self.W) + self.h_bias)\n",
    "        p_h_v = 1/(1 + np.exp(2*var))\n",
    "        #p_h_v = np.tanh(var)\n",
    "        state_h = self.state_sample(p_h_v)\n",
    "\n",
    "        return state_h, p_h_v\n",
    "    \n",
    "    # in constract, once the states of hidden layer are obtained, p(v=1|h) can be computed\n",
    "    # with probability, the states of visible layer could be sampled \n",
    "    def sample_v(self, h):\n",
    "        var = -(np.dot(h, self.W.T) + self.v_bias)\n",
    "        p_v_h = 1/(1 + np.exp(2*var))\n",
    "        #p_v_h = np.tanh(var)\n",
    "        state_v = self.state_sample(p_v_h)\n",
    "        \n",
    "        return state_v, p_v_h\n",
    "\n",
    "    def state_sample(self, p):\n",
    "        state = []\n",
    "        uni = np.random.uniform(0,1, size=p[0].shape[0])\n",
    "        for i in range(len(p)):\n",
    "            condition = np.less(p[i], uni)\n",
    "            state_node = np.where(condition, -1, 1)\n",
    "            state.append(state_node)\n",
    "        return np.array(state).reshape(p.shape[0], p.shape[1])\n",
    "\n",
    "    # taking use of the visible layer state V(i) and probability p(v|h), k'th V state could be computed \n",
    "    # and its corresponding p(h(k)|V).\n",
    "    def gibbs_sampling(self, v):\n",
    "        i = 0 \n",
    "        k = self.gibbs_num\n",
    "        v_0 = v\n",
    "\n",
    "        _, p_h0_v = self.sample_h(v_0)\n",
    "\n",
    "        while bool(i < k):\n",
    "            state_h, _ = self.sample_h(v)\n",
    "            state_v, _ = self.sample_v(state_h)\n",
    "            i += 1\n",
    "\n",
    "        else: \n",
    "            v_k = state_v\n",
    "\n",
    "            _, p_hk_v = self.sample_h(v_k)\n",
    "        \n",
    "        return v_0, v_k, p_h0_v, p_hk_v\n",
    "        \n",
    "\n",
    "    # with the refered formulas, the gradient of each parameter(W, b-->h, a-->v) could be computed\n",
    "    def gradient_compute(self, v_0, v_k, p_h0_v, p_hk_v):\n",
    "        dw = np.dot(v_0.T, p_h0_v) - np.dot(v_k.T, p_hk_v)\n",
    "        dh_bias = np.sum(p_h0_v - p_hk_v)\n",
    "        dv_bias = np.sum(v_0 - v_k)\n",
    "        \n",
    "        \n",
    "        self.v_w = self.momentum * self.v_w + (1 - self.momentum) * dw\n",
    "        self.v_h = self.momentum * self.v_h + (1 - self.momentum) * dh_bias\n",
    "        self.v_v = self.momentum * self.v_v + (1 - self.momentum) * dv_bias \n",
    "\n",
    "        self.W += self.lr * self.v_w\n",
    "        self.v_bias += self.lr * self.v_v\n",
    "        self.h_bias += self.lr * self.v_h \n",
    "    # set the number of iteration and go over all the training data (binary vectors) for one epoch."
   ]
  },
  {
   "cell_type": "code",
   "execution_count": 3,
   "metadata": {
    "ExecuteTime": {
     "end_time": "2022-11-08T17:43:09.705309Z",
     "start_time": "2022-11-08T17:43:09.696364Z"
    }
   },
   "outputs": [],
   "source": [
    "def compute_px_with_Z(train_data, W, v_bias, h_bias): \n",
    "    probability = []\n",
    "    for l in range(len(train_data)):\n",
    "        train_data_one_piece = train_data[l]\n",
    "        product_value = 1\n",
    "        exp_av = np.exp(np.dot(v_bias, train_data_one_piece))\n",
    "        for i in range(h_bias.shape[1]):\n",
    "            product_value = product_value * (np.exp(np.dot(W.T[i], train_data_one_piece)+ h_bias.T[i]) +\n",
    "                                             np.exp(-np.dot(W.T[i], train_data_one_piece)- h_bias.T[i]))\n",
    "        px_with_Z = exp_av * product_value\n",
    "        probability.append(px_with_Z[0])\n",
    "    return probability\n",
    "\n",
    "\n",
    "def compute_Z(v_dim, W, v_bias, h_bias):\n",
    "    def dic_build(dic_candidate, dim):\n",
    "        i= 0\n",
    "        for item in itertools.product('01',repeat=dim):\n",
    "        #for item in itertools.product(*((x, -x) for x in [1 for i in range(dim)])):\n",
    "            if i not in dic_candidate:\n",
    "                dic_candidate[i] = item\n",
    "            i += 1\n",
    "        return dic_candidate\n",
    "        \n",
    "    dic_v = {}  \n",
    "    dic_v = dic_build(dic_v, v_dim)\n",
    "\n",
    "    Z = 0\n",
    "    for l in range(len(dic_v)):\n",
    "        train_data_one = np.array(dic_v[l]).astype(int)\n",
    "        for i in range(len(train_data_one)):\n",
    "            if train_data_one[i] == 0:\n",
    "                train_data_one[i] = -1\n",
    "        exp_av = np.exp(np.dot(v_bias, train_data_one))\n",
    "        product = 1\n",
    "        for j in range(h_bias.shape[1]):\n",
    "            product = product * (np.exp(np.dot(train_data_one.T, W.T[j]) + h_bias.T[j]) +\n",
    "                                 np.exp(-np.dot(train_data_one.T, W.T[j]) - h_bias.T[j]))\n",
    "        total = exp_av * product\n",
    "\n",
    "        Z += total\n",
    "    return Z"
   ]
  },
  {
   "cell_type": "code",
   "execution_count": 4,
   "metadata": {
    "ExecuteTime": {
     "end_time": "2022-11-08T17:46:17.536605Z",
     "start_time": "2022-11-08T17:46:17.526118Z"
    }
   },
   "outputs": [],
   "source": [
    "train_data = np.loadtxt(r'3x3pn.txt')\n",
    "\n",
    "visible_node_num = train_data.shape[1]\n",
    "hidden_node_num = 20\n",
    "lr = 5e-4\n",
    "gibbs_num = 1\n",
    "\n",
    "epochs = 10000\n",
    "batch_size = 1"
   ]
  },
  {
   "cell_type": "code",
   "execution_count": 5,
   "metadata": {
    "ExecuteTime": {
     "end_time": "2022-11-08T17:46:19.580233Z",
     "start_time": "2022-11-08T17:46:19.572687Z"
    }
   },
   "outputs": [],
   "source": [
    "rbm = RBM(visible_node_num, hidden_node_num, lr, gibbs_num)"
   ]
  },
  {
   "cell_type": "code",
   "execution_count": 6,
   "metadata": {
    "ExecuteTime": {
     "end_time": "2022-11-08T17:49:29.163561Z",
     "start_time": "2022-11-08T17:49:26.177678Z"
    },
    "scrolled": true
   },
   "outputs": [
    {
     "name": "stdout",
     "output_type": "stream",
     "text": [
      "epoch:1 ==>  KL = [1.21278588], logLKH = [-19.61805971], prob_sum = 0.0005, time = 0.10s\n",
      "epoch:101 ==>  KL = [1.00127181], logLKH = [-16.65686264], prob_sum = 0.0036, time = 0.07s\n",
      "epoch:201 ==>  KL = [0.84894582], logLKH = [-14.52429886], prob_sum = 0.0110, time = 0.07s\n",
      "epoch:301 ==>  KL = [0.72032347], logLKH = [-12.72358591], prob_sum = 0.0232, time = 0.07s\n",
      "epoch:401 ==>  KL = [0.61274228], logLKH = [-11.21744925], prob_sum = 0.0496, time = 0.07s\n",
      "epoch:501 ==>  KL = [0.53587373], logLKH = [-10.14128961], prob_sum = 0.0784, time = 0.07s\n",
      "epoch:601 ==>  KL = [0.47454187], logLKH = [-9.28264348], prob_sum = 0.1045, time = 0.07s\n",
      "epoch:701 ==>  KL = [0.42364244], logLKH = [-8.57005151], prob_sum = 0.1533, time = 0.07s\n",
      "epoch:801 ==>  KL = [0.38022387], logLKH = [-7.96219154], prob_sum = 0.1697, time = 0.07s\n",
      "epoch:901 ==>  KL = [0.34653769], logLKH = [-7.49058493], prob_sum = 0.2057, time = 0.07s\n",
      "epoch:1001 ==>  KL = [0.32189113], logLKH = [-7.14553316], prob_sum = 0.2416, time = 0.07s\n",
      "epoch:1101 ==>  KL = [0.30203807], logLKH = [-6.86759036], prob_sum = 0.2562, time = 0.07s\n",
      "epoch:1201 ==>  KL = [0.29041188], logLKH = [-6.70482362], prob_sum = 0.2763, time = 0.07s\n",
      "epoch:1301 ==>  KL = [0.27228647], logLKH = [-6.45106791], prob_sum = 0.2987, time = 0.07s\n",
      "epoch:1401 ==>  KL = [0.25335041], logLKH = [-6.185963], prob_sum = 0.3177, time = 0.07s\n",
      "epoch:1501 ==>  KL = [0.24296393], logLKH = [-6.04055236], prob_sum = 0.3331, time = 0.07s\n",
      "epoch:1601 ==>  KL = [0.23483609], logLKH = [-5.92676255], prob_sum = 0.3604, time = 0.07s\n",
      "epoch:1701 ==>  KL = [0.22624561], logLKH = [-5.8064959], prob_sum = 0.3894, time = 0.07s\n",
      "epoch:1801 ==>  KL = [0.213536], logLKH = [-5.62856127], prob_sum = 0.4260, time = 0.07s\n",
      "epoch:1901 ==>  KL = [0.20697382], logLKH = [-5.53669088], prob_sum = 0.4486, time = 0.07s\n",
      "epoch:2001 ==>  KL = [0.19922252], logLKH = [-5.42817265], prob_sum = 0.4687, time = 0.07s\n",
      "epoch:2101 ==>  KL = [0.1935413], logLKH = [-5.34863549], prob_sum = 0.4979, time = 0.07s\n",
      "epoch:2201 ==>  KL = [0.1896853], logLKH = [-5.29465158], prob_sum = 0.5165, time = 0.07s\n",
      "epoch:2301 ==>  KL = [0.18406538], logLKH = [-5.21597261], prob_sum = 0.5358, time = 0.07s\n",
      "epoch:2401 ==>  KL = [0.17769505], logLKH = [-5.12678807], prob_sum = 0.5490, time = 0.07s\n",
      "epoch:2501 ==>  KL = [0.17357349], logLKH = [-5.06908615], prob_sum = 0.5735, time = 0.07s\n",
      "epoch:2601 ==>  KL = [0.171329], logLKH = [-5.03766332], prob_sum = 0.5857, time = 0.07s\n",
      "epoch:2701 ==>  KL = [0.16492118], logLKH = [-4.94795386], prob_sum = 0.6039, time = 0.07s\n",
      "epoch:2801 ==>  KL = [0.16163488], logLKH = [-4.90194565], prob_sum = 0.6069, time = 0.07s\n"
     ]
    },
    {
     "ename": "KeyboardInterrupt",
     "evalue": "",
     "output_type": "error",
     "traceback": [
      "\u001b[0;31m---------------------------------------------------------------------------\u001b[0m",
      "\u001b[0;31mKeyboardInterrupt\u001b[0m                         Traceback (most recent call last)",
      "\u001b[0;32m/var/folders/92/zgzs76j97j3f_tf8rngzx_580000gn/T/ipykernel_47837/3818492922.py\u001b[0m in \u001b[0;36m<module>\u001b[0;34m\u001b[0m\n\u001b[1;32m     12\u001b[0m \u001b[0;34m\u001b[0m\u001b[0m\n\u001b[1;32m     13\u001b[0m \u001b[0;34m\u001b[0m\u001b[0m\n\u001b[0;32m---> 14\u001b[0;31m     \u001b[0mZ\u001b[0m \u001b[0;34m=\u001b[0m \u001b[0mcompute_Z\u001b[0m\u001b[0;34m(\u001b[0m\u001b[0mtrain_data\u001b[0m\u001b[0;34m.\u001b[0m\u001b[0mshape\u001b[0m\u001b[0;34m[\u001b[0m\u001b[0;36m1\u001b[0m\u001b[0;34m]\u001b[0m\u001b[0;34m,\u001b[0m \u001b[0mrbm\u001b[0m\u001b[0;34m.\u001b[0m\u001b[0mW\u001b[0m\u001b[0;34m,\u001b[0m \u001b[0mrbm\u001b[0m\u001b[0;34m.\u001b[0m\u001b[0mv_bias\u001b[0m\u001b[0;34m,\u001b[0m \u001b[0mrbm\u001b[0m\u001b[0;34m.\u001b[0m\u001b[0mh_bias\u001b[0m\u001b[0;34m)\u001b[0m\u001b[0;34m\u001b[0m\u001b[0;34m\u001b[0m\u001b[0m\n\u001b[0m\u001b[1;32m     15\u001b[0m     \u001b[0mprobability_list\u001b[0m \u001b[0;34m=\u001b[0m \u001b[0mcompute_px_with_Z\u001b[0m\u001b[0;34m(\u001b[0m\u001b[0mtrain_data\u001b[0m\u001b[0;34m,\u001b[0m \u001b[0mrbm\u001b[0m\u001b[0;34m.\u001b[0m\u001b[0mW\u001b[0m\u001b[0;34m,\u001b[0m \u001b[0mrbm\u001b[0m\u001b[0;34m.\u001b[0m\u001b[0mv_bias\u001b[0m\u001b[0;34m,\u001b[0m \u001b[0mrbm\u001b[0m\u001b[0;34m.\u001b[0m\u001b[0mh_bias\u001b[0m\u001b[0;34m)\u001b[0m\u001b[0;34m\u001b[0m\u001b[0;34m\u001b[0m\u001b[0m\n\u001b[1;32m     16\u001b[0m \u001b[0;34m\u001b[0m\u001b[0m\n",
      "\u001b[0;32m/var/folders/92/zgzs76j97j3f_tf8rngzx_580000gn/T/ipykernel_47837/3983494829.py\u001b[0m in \u001b[0;36mcompute_Z\u001b[0;34m(v_dim, W, v_bias, h_bias)\u001b[0m\n\u001b[1;32m     36\u001b[0m         \u001b[0;32mfor\u001b[0m \u001b[0mj\u001b[0m \u001b[0;32min\u001b[0m \u001b[0mrange\u001b[0m\u001b[0;34m(\u001b[0m\u001b[0mh_bias\u001b[0m\u001b[0;34m.\u001b[0m\u001b[0mshape\u001b[0m\u001b[0;34m[\u001b[0m\u001b[0;36m1\u001b[0m\u001b[0;34m]\u001b[0m\u001b[0;34m)\u001b[0m\u001b[0;34m:\u001b[0m\u001b[0;34m\u001b[0m\u001b[0;34m\u001b[0m\u001b[0m\n\u001b[1;32m     37\u001b[0m             product = product * (np.exp(np.dot(train_data_one.T, W.T[j]) + h_bias.T[j]) +\n\u001b[0;32m---> 38\u001b[0;31m                                  np.exp(-np.dot(train_data_one.T, W.T[j]) - h_bias.T[j]))\n\u001b[0m\u001b[1;32m     39\u001b[0m         \u001b[0mtotal\u001b[0m \u001b[0;34m=\u001b[0m \u001b[0mexp_av\u001b[0m \u001b[0;34m*\u001b[0m \u001b[0mproduct\u001b[0m\u001b[0;34m\u001b[0m\u001b[0;34m\u001b[0m\u001b[0m\n\u001b[1;32m     40\u001b[0m \u001b[0;34m\u001b[0m\u001b[0m\n",
      "\u001b[0;32m<__array_function__ internals>\u001b[0m in \u001b[0;36mdot\u001b[0;34m(*args, **kwargs)\u001b[0m\n",
      "\u001b[0;31mKeyboardInterrupt\u001b[0m: "
     ]
    }
   ],
   "source": [
    "KL_list = []\n",
    "log_LKH_list = []\n",
    "\n",
    "for epoch in range(epochs):\n",
    "    epoch_start_time = time.time()\n",
    "    for index in range(0, train_data.shape[0]-batch_size, batch_size):\n",
    "        v0 = train_data[index: index + batch_size]\n",
    "        vk = train_data[index: index + batch_size]\n",
    "        _, p_h0_v = rbm.sample_h(v0)\n",
    "        v0, vk, p_h0_v, p_hk_v = rbm.gibbs_sampling(v0)\n",
    "        rbm.gradient_compute(v0, vk, p_h0_v, p_hk_v)\n",
    "    \n",
    "\n",
    "    Z = compute_Z(train_data.shape[1], rbm.W, rbm.v_bias, rbm.h_bias) \n",
    "    probability_list = compute_px_with_Z(train_data, rbm.W, rbm.v_bias, rbm.h_bias)\n",
    "\n",
    "    logLKH = 0\n",
    "    KL = 0\n",
    "    \n",
    "    \n",
    "    for i in range(len(probability_list)):\n",
    "        px_with_Z = probability_list[i]\n",
    "        N = len(probability_list)\n",
    "        log_lkh = np.log(px_with_Z) - np.log(Z) \n",
    "        logLKH += log_lkh\n",
    "\n",
    "        kl = -np.log(N)/N - np.log(px_with_Z)/N + np.log(Z)/N\n",
    "        KL += kl\n",
    "    KL /= N\n",
    "    logLKH /= N\n",
    "    KL_list.append(KL)\n",
    "    log_LKH_list.append(logLKH)\n",
    "\n",
    "    probability_list = [probability_list[i]/Z for i in range(len(probability_list))]\n",
    "    x = np.sum(probability_list)\n",
    "    \n",
    "    epoch_end_time = time.time()\n",
    "    \n",
    "    results = 'epoch:{} ==>  KL = {}, logLKH = {}, prob_sum = {:.4f}, time = {:.2f}s'.format(epoch+1, KL, logLKH, x, epoch_end_time-epoch_start_time)\n",
    "    #f=open(\"log -1&1.txt\",\"a\")\n",
    "    #f.write(results + '\\n')\n",
    "    #f.close()\n",
    "\n",
    "    if(epoch % 100 == 0):\n",
    "        print(results)\n"
   ]
  },
  {
   "cell_type": "code",
   "execution_count": 7,
   "metadata": {},
   "outputs": [
    {
     "data": {
      "image/png": "[encoded data removed]",
      "text/plain": [
       "<Figure size 500x300 with 1 Axes>"
      ]
     },
     "metadata": {},
     "output_type": "display_data"
    }
   ],
   "source": [
    "import matplotlib.pyplot as plt\n",
    "\n",
    "kl_time = [i for i in range(len(KL_list))]\n",
    "plt.figure(figsize=(5,3))\n",
    "plt.plot(kl_time, KL_list)\n",
    "plt.savefig('KL_divergence -1&1')\n",
    "plt.show()"
   ]
  },
  {
   "cell_type": "code",
   "execution_count": 8,
   "metadata": {},
   "outputs": [
    {
     "data": {
      "image/png": "[encoded data removed]",
      "text/plain": [
       "<Figure size 500x300 with 1 Axes>"
      ]
     },
     "metadata": {},
     "output_type": "display_data"
    }
   ],
   "source": [
    "plt.figure(figsize=(5,3))\n",
    "plt.plot(kl_time, log_LKH_list)\n",
    "plt.savefig('log_Likelihood -1&1')\n",
    "plt.show()"
   ]
  },
  {
   "cell_type": "code",
   "execution_count": 10,
   "metadata": {},
   "outputs": [
    {
     "name": "stdout",
     "output_type": "stream",
     "text": [
      "original_data: [ 1  1  1 -1 -1 -1 -1 -1 -1], sampling_data: [[ 1  1  1 -1 -1 -1 -1 -1 -1]], acc: 1.0\n",
      "original_data: [-1 -1 -1  1  1  1 -1 -1 -1], sampling_data: [[-1 -1 -1  1  1  1 -1 -1 -1]], acc: 1.0\n",
      "original_data: [-1 -1 -1 -1 -1 -1  1  1  1], sampling_data: [[-1 -1 -1 -1 -1 -1  1  1  1]], acc: 1.0\n",
      "original_data: [ 1  1  1  1  1  1 -1 -1 -1], sampling_data: [[ 1  1  1  1  1  1 -1 -1 -1]], acc: 1.0\n",
      "original_data: [ 1  1  1 -1 -1 -1  1  1  1], sampling_data: [[ 1  1  1 -1 -1 -1  1  1  1]], acc: 1.0\n",
      "original_data: [-1 -1 -1  1  1  1  1  1  1], sampling_data: [[-1 -1 -1  1  1  1  1  1  1]], acc: 1.0\n",
      "original_data: [ 1 -1 -1  1 -1 -1  1 -1 -1], sampling_data: [[ 1 -1 -1  1 -1 -1  1 -1 -1]], acc: 1.0\n",
      "original_data: [-1  1 -1 -1  1 -1 -1  1 -1], sampling_data: [[-1  1 -1 -1  1 -1 -1  1 -1]], acc: 1.0\n",
      "original_data: [-1 -1  1 -1 -1  1 -1 -1  1], sampling_data: [[-1 -1  1 -1 -1  1 -1 -1  1]], acc: 1.0\n",
      "original_data: [ 1  1 -1  1  1 -1  1  1 -1], sampling_data: [[ 1  1 -1  1  1 -1  1  1 -1]], acc: 1.0\n",
      "original_data: [ 1 -1  1  1 -1  1  1 -1  1], sampling_data: [[ 1 -1  1  1 -1  1  1 -1  1]], acc: 1.0\n",
      "original_data: [-1  1  1 -1  1  1 -1  1  1], sampling_data: [[-1  1  1 -1  1  1 -1  1  1]], acc: 1.0\n",
      "original_data: [-1 -1 -1 -1 -1 -1 -1 -1 -1], sampling_data: [[-1 -1 -1 -1 -1 -1 -1 -1 -1]], acc: 1.0\n",
      "original_data: [1 1 1 1 1 1 1 1 1], sampling_data: [[1 1 1 1 1 1 1 1 1]], acc: 1.0\n"
     ]
    }
   ],
   "source": [
    "acc = 0\n",
    "train_data = [train_data[i].astype(int) for i in range(len(train_data))]\n",
    "for i in range(len(train_data)):\n",
    "    v0 = train_data[i]\n",
    "    v0, vk, p_h0_v, p_hk_v = rbm.gibbs_sampling(v0)\n",
    "    \n",
    "    acc_i = np.sum(np.where(train_data[i]==vk, 1, 0)/len(train_data[i]))\n",
    "    print('original_data: {}, sampling_data: {}, acc: {}'.format(train_data[i], vk, acc_i))"
   ]
  },
  {
   "cell_type": "code",
   "execution_count": 11,
   "metadata": {},
   "outputs": [
    {
     "data": {
      "text/plain": [
       "<AxesSubplot:>"
      ]
     },
     "execution_count": 11,
     "metadata": {},
     "output_type": "execute_result"
    },
    {
     "data": {
      "image/png": "[encoded data removed]",
      "text/plain": [
       "<Figure size 640x480 with 1 Axes>"
      ]
     },
     "metadata": {},
     "output_type": "display_data"
    }
   ],
   "source": [
    "import seaborn as sns\n",
    "sns.barplot(data = probability_list, color='Grey')"
   ]
  },
  {
   "cell_type": "code",
   "execution_count": null,
   "metadata": {},
   "outputs": [],
   "source": []
  }
 ],
 "metadata": {
  "kernelspec": {
   "display_name": "Python 3 (ipykernel)",
   "language": "python",
   "name": "python3"
  },
  "language_info": {
   "codemirror_mode": {
    "name": "ipython",
    "version": 3
   },
   "file_extension": ".py",
   "mimetype": "text/x-python",
   "name": "python",
   "nbconvert_exporter": "python",
   "pygments_lexer": "ipython3",
   "version": "3.9.13"
  },
  "vscode": {
   "interpreter": {
    "hash": "7385b0f049b6e7672708b4128aac6b636788029d223fa4cf31aad7c54b2b6a55"
   }
  }
 },
 "nbformat": 4,
 "nbformat_minor": 2
}
